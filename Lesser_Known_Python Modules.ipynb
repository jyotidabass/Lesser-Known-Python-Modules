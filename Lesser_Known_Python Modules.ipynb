{
  "nbformat": 4,
  "nbformat_minor": 0,
  "metadata": {
    "colab": {
      "provenance": [],
      "authorship_tag": "ABX9TyO5MRBnK5sEQKv+s7PpQo3B",
      "include_colab_link": true
    },
    "kernelspec": {
      "name": "python3",
      "display_name": "Python 3"
    },
    "language_info": {
      "name": "python"
    }
  },
  "cells": [
    {
      "cell_type": "markdown",
      "metadata": {
        "id": "view-in-github",
        "colab_type": "text"
      },
      "source": [
        "<a href=\"https://colab.research.google.com/github/jyotidabass/Lesser-Known-Python-Modules/blob/main/Lesser_Known_Python%C2%A0Modules.ipynb\" target=\"_parent\"><img src=\"https://colab.research.google.com/assets/colab-badge.svg\" alt=\"Open In Colab\"/></a>"
      ]
    },
    {
      "cell_type": "markdown",
      "source": [
        "PyPDF2: This module provides an efficient way to work with PDF files in Python. PyPDF2 supports reading, writing, and modifying PDF documents, including merging multiple PDFs, extracting text, adding watermarks, and more."
      ],
      "metadata": {
        "id": "idKSR6c_FqMe"
      }
    },
    {
      "cell_type": "code",
      "source": [
        "!pip install PyPDF2\n",
        "import PyPDF2\n",
        "\n",
        "#Define Function\n",
        "def merge_pdfs(input_pdf, output_destination):\n",
        "    merger = PyPDF2.PdfMerger()\n",
        "\n",
        "    for pdf in input_pdf:\n",
        "      merger.append(pdf)\n",
        "\n",
        "    output_path = output_destination\n",
        "    merger.write(output_path)\n",
        "    merger.close()\n",
        "\n",
        "# Set your input folder that containing pdf file\n",
        "input_pdf = ['/content/unet.pdf','/content/Large Language Model.pdf','/content/Design and Evaluation of fine-tuned Mistral7b in Legal Data Processing.pdf']\n",
        "# Set your output folder and desired output filename\n",
        "output_destination = \"/content/merged.pdf\"\n",
        "\n",
        "# Call the function\n",
        "merge_pdfs(input_pdf, output_destination)"
      ],
      "metadata": {
        "colab": {
          "base_uri": "https://localhost:8080/"
        },
        "id": "kn2IPRNU7WPJ",
        "outputId": "a1650375-4e70-4f91-a7d4-e8f6bb584da6"
      },
      "execution_count": 12,
      "outputs": [
        {
          "output_type": "stream",
          "name": "stdout",
          "text": [
            "Requirement already satisfied: PyPDF2 in /usr/local/lib/python3.10/dist-packages (3.0.1)\n"
          ]
        }
      ]
    },
    {
      "cell_type": "markdown",
      "source": [
        "2. Pillow: Pillow is a widely-used Python imaging library that provides extensive functionality for image processing, manipulation, and conversion. It supports over 300 image file formats, including JPEG, PNG, GIF, BMP, and TIFF."
      ],
      "metadata": {
        "id": "ss4nWyG-FzZR"
      }
    },
    {
      "cell_type": "code",
      "source": [
        "from PIL import Image\n",
        "\n",
        "# Path to the input image\n",
        "input_image = '/content/image.png'\n",
        "\n",
        "# Path to the output image\n",
        "output_image = 'output.png'\n",
        "\n",
        "# Resize the image to 800x600 pixels, maintaining the aspect ratio\n",
        "img = Image.open(input_image)\n",
        "img = img.resize((800, 600), Image.ANTIALIAS)\n",
        "\n",
        "# Convert the image to PNG format and save it\n",
        "img.save(output_image, 'PNG')\n",
        "\n",
        "# Display a message when the resizing and conversion are complete\n",
        "print(f\"Image resized and converted successfully! Output file: {output_image}\")"
      ],
      "metadata": {
        "colab": {
          "base_uri": "https://localhost:8080/"
        },
        "id": "7QflUJmB8fJ-",
        "outputId": "5db1c755-3609-45d3-e237-e4e0d8238474"
      },
      "execution_count": 13,
      "outputs": [
        {
          "output_type": "stream",
          "name": "stderr",
          "text": [
            "<ipython-input-13-40cd5ef898ac>:11: DeprecationWarning: ANTIALIAS is deprecated and will be removed in Pillow 10 (2023-07-01). Use LANCZOS or Resampling.LANCZOS instead.\n",
            "  img = img.resize((800, 600), Image.ANTIALIAS)\n"
          ]
        },
        {
          "output_type": "stream",
          "name": "stdout",
          "text": [
            "Image resized and converted successfully! Output file: output.png\n"
          ]
        }
      ]
    },
    {
      "cell_type": "markdown",
      "source": [
        "3. Pandas: Pandas is a Python library for handling and analyzing data. It simplifies working with large datasets by providing powerful tools for filtering, sorting, aggregating, and visualizing data."
      ],
      "metadata": {
        "id": "rHYKo5DYF4tF"
      }
    },
    {
      "cell_type": "code",
      "source": [
        "import pandas as pd\n",
        "\n",
        "# Load a sample DataFrame\n",
        "df = pd.DataFrame({'A': [1, 2, 3, 4], 'B': ['a', 'b', 'c', 'd']})\n",
        "\n",
        "# Filter rows where column A is greater than 2\n",
        "filtered_df = df[df['A'] > 2]\n",
        "\n",
        "# Display the filtered DataFrame\n",
        "print(filtered_df)"
      ],
      "metadata": {
        "colab": {
          "base_uri": "https://localhost:8080/"
        },
        "id": "ksd97dUY-U9O",
        "outputId": "5f696b07-0f3f-4dd7-be5c-feccc78a2c70"
      },
      "execution_count": 14,
      "outputs": [
        {
          "output_type": "stream",
          "name": "stdout",
          "text": [
            "   A  B\n",
            "2  3  c\n",
            "3  4  d\n"
          ]
        }
      ]
    }
  ]
}